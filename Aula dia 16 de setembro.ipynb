{
 "cells": [
  {
   "cell_type": "markdown",
   "metadata": {},
   "source": [
    "# Topico dois\n",
    "\n",
    "\n",
    "\n",
    "## Perpertuidade"
   ]
  },
  {
   "cell_type": "markdown",
   "metadata": {},
   "source": [
    "VP = valor presente\n",
    "\n",
    "N = Fluxo de caixa\n",
    "\n",
    "\n",
    "Exercício\n",
    "\n",
    "Salário = 24.0000 (PMT)\n",
    "Taxa de juros = 6% a.a\n",
    "prazo = infinito\n"
   ]
  },
  {
   "cell_type": "code",
   "execution_count": 4,
   "metadata": {},
   "outputs": [
    {
     "name": "stdout",
     "output_type": "stream",
     "text": [
      "400.0\n"
     ]
    }
   ],
   "source": [
    "# Conta de perpetuidade sem taxa de crescimento\n",
    "\n",
    "salario = 24.00\n",
    "anual = 6.00 / 100\n",
    "\n",
    "pv = salario / anual\n",
    "\n",
    "print(pv)"
   ]
  },
  {
   "cell_type": "code",
   "execution_count": 5,
   "metadata": {},
   "outputs": [
    {
     "name": "stdout",
     "output_type": "stream",
     "text": [
      "8000000.0\n"
     ]
    }
   ],
   "source": [
    "# Perpertuidade com crescimento\n",
    "\n",
    "pmt = 24e4\n",
    "\n",
    "juros = 6.00 / 100 # (K)\n",
    "\n",
    "crescimento = 3.00 / 100 #(G)\n",
    "\n",
    "perpertuidadeComCrescimento = pmt / (juros - crescimento)\n",
    "\n",
    "print(perpertuidadeComCrescimento)"
   ]
  },
  {
   "cell_type": "markdown",
   "metadata": {},
   "source": [
    "## Preco de uma ação \"dividendos\" Modelo de Gordon\n",
    "\n",
    "D = dividendos\n",
    "G = Taxa de crescimento dos dividendos\n",
    "K = Taxa de juros\n",
    "\n",
    "Empresa XPTO\n",
    "\n",
    "Valor empresa = D1 / K - G"
   ]
  },
  {
   "cell_type": "code",
   "execution_count": 7,
   "metadata": {},
   "outputs": [
    {
     "name": "stdout",
     "output_type": "stream",
     "text": [
      "1.4317\n",
      "47.7233333333\n"
     ]
    }
   ],
   "source": [
    "d = 1.39 #p/acao\n",
    "k = 6.0 / 100 #a.a\n",
    "g = 3.0 / 100\n",
    "\n",
    "d1 = d * (1.0 + g)\n",
    "\n",
    "# base para o modelo de gordon\n",
    "print(d1)\n",
    "\n",
    "#p0 valor da empresa no momento 0\n",
    "\n",
    "p0 = d1 / (k - g)\n",
    "\n",
    "print(p0) # por ação"
   ]
  },
  {
   "cell_type": "code",
   "execution_count": 17,
   "metadata": {},
   "outputs": [
    {
     "name": "stdout",
     "output_type": "stream",
     "text": [
      "10.55754\n",
      "110.898529412\n"
     ]
    }
   ],
   "source": [
    "# Calculando ações AZUL\n",
    "\n",
    "G = 3.0 / 100\n",
    "K = 12.52 / 100 #Aqui vai o wacc\n",
    "D0 = 8.82\n",
    "D1 = D0 * (1 + (19.7 / 100))**1\n",
    "\n",
    "print(D1)\n",
    "\n",
    "P0 = D1 / (K - G)\n",
    "\n",
    "print(P0)"
   ]
  },
  {
   "cell_type": "markdown",
   "metadata": {},
   "source": [
    "## Viabilidade de projetos fluxo de caixa\n",
    "\n",
    "fc1 + fc2 + fc3 + Perpetuidade = periodo explicito\n",
    "\n",
    "**Projetos de tempo definido**\n",
    "\n",
    "fc1 + fc2 + fc3 + valor residual\n",
    "\n",
    "- Periodo explicito\n",
    "\n"
   ]
  }
 ],
 "metadata": {
  "kernelspec": {
   "display_name": "Python 2",
   "language": "python",
   "name": "python2"
  },
  "language_info": {
   "codemirror_mode": {
    "name": "ipython",
    "version": 2
   },
   "file_extension": ".py",
   "mimetype": "text/x-python",
   "name": "python",
   "nbconvert_exporter": "python",
   "pygments_lexer": "ipython2",
   "version": "2.7.16"
  }
 },
 "nbformat": 4,
 "nbformat_minor": 2
}
