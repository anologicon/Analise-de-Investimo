{
 "cells": [
  {
   "cell_type": "markdown",
   "metadata": {},
   "source": [
    "_Referencia_: http://pages.stern.nyu.edu/~adamodar/New_Home_Page/datafile/Betas.html"
   ]
  },
  {
   "cell_type": "code",
   "execution_count": 47,
   "metadata": {},
   "outputs": [
    {
     "name": "stdout",
     "output_type": "stream",
     "text": [
      "Taxa: Compra Aeronaves\n",
      "2.80929\n",
      "Taxa: Arrendemento Financeiro\n",
      "8.53929\n",
      "Taxa: Capital de giro 1\n",
      "5.23571\n",
      "Taxa: Compra Aeronave\n",
      "12.28\n",
      "Taxa: Capital de giro 2\n",
      "5.23571\n",
      "Taxa: Arrendamento financeiro\n",
      "10.34\n",
      "Taxa: Debentures\n",
      "14.4505\n"
     ]
    }
   ],
   "source": [
    "LIBOR = 0.46571\n",
    "SELIC = 0.57\n",
    "CDI = 5.9\n",
    "BETA = 1.02\n",
    "\n",
    "# O valorPercentual tem que se em porcentagem\n",
    "def calcularPorcentagem(valorPercentual, valorSerCalculado):\n",
    "    return ((valorPercentual * valorSerCalculado) / 100)\n",
    "\n",
    "\n",
    "compra_aeronaves_taxa = ((2.55 + 4) / 2) - LIBOR\n",
    "compra_aeronaves_valor = 10042\n",
    "\n",
    "print \"Taxa: Compra Aeronaves\"\n",
    "print(compra_aeronaves_taxa)\n",
    "\n",
    "print \"Taxa: Arrendemento Financeiro\"\n",
    "arrendamento_financeiro_taxa = ((2.05 + 5.96 )/ 2) + 5 - LIBOR\n",
    "arrendamneto_financeiro_valor = 949891\n",
    "\n",
    "print(arrendamento_financeiro_taxa)\n",
    "\n",
    "\n",
    "print \"Taxa: Capital de giro 1\"\n",
    "capital_de_giro_taxa = LIBOR - 0.88 + ((5.9 + 5.4) / 2)\n",
    "capital_de_giro_valor = 1656947\n",
    "\n",
    "print capital_de_giro_taxa\n",
    "\n",
    "\n",
    "print \"Taxa: Compra Aeronave\"\n",
    "aero_taxa = ((6.0 + 6.50) / 2) + SELIC + 5.46\n",
    "aero_valor = 192861\n",
    "\n",
    "print aero_taxa\n",
    "\n",
    "\n",
    "media_capital_giro = (125 + 126) / 2\n",
    "\n",
    "print \"Taxa: Capital de giro 2\"\n",
    "capital_giro_taxa = 5 + calcularPorcentagem(media_capital_giro, CDI)\n",
    "capital_valor = 73376\n",
    "\n",
    "print capital_de_giro_taxa\n",
    "\n",
    "print \"Taxa: Arrendamento financeiro\"\n",
    "arrendamento_financeiro_taxa = CDI + ((3.97 + 4.91) / 2)\n",
    "arrendamento_valor = 2386\n",
    "\n",
    "print arrendamento_financeiro_taxa\n",
    "\n",
    "print \"Taxa: Debentures\"\n",
    "debentures_taxa = CDI + 1.5 + (calcularPorcentagem(117, CDI) + calcularPorcentagem(122, CDI)) / 2\n",
    "debentures_valor = 730519\n",
    "\n",
    "print debentures_taxa\n"
   ]
  },
  {
   "cell_type": "markdown",
   "metadata": {},
   "source": [
    "### Media Ponderada"
   ]
  },
  {
   "cell_type": "code",
   "execution_count": 45,
   "metadata": {},
   "outputs": [
    {
     "name": "stdout",
     "output_type": "stream",
     "text": [
      "Media Ponderada\n",
      "11.527917793340036\n"
     ]
    }
   ],
   "source": [
    "import numpy as np\n",
    "\n",
    "taxas = [compra_aeronaves_taxa, arrendamento_financeiro_taxa, capital_de_giro_taxa, aero_taxa, debentures_taxa]\n",
    "\n",
    "valores = [compra_aeronaves_valor, arrendamneto_financeiro_valor, capital_de_giro_valor, aero_valor, debentures_valor]\n",
    "\n",
    "weighted_avg = np.average(taxas, weights=valores)\n",
    "\n",
    "print \"Media Ponderada\"\n",
    "print weighted_avg"
   ]
  },
  {
   "cell_type": "markdown",
   "metadata": {},
   "source": [
    "### Calulcar total de capital da empresa\n",
    "\n",
    "Total de divida e patrimonio"
   ]
  },
  {
   "cell_type": "code",
   "execution_count": null,
   "metadata": {},
   "outputs": [],
   "source": []
  }
 ],
 "metadata": {
  "kernelspec": {
   "display_name": "Python 2",
   "language": "python",
   "name": "python2"
  },
  "language_info": {
   "codemirror_mode": {
    "name": "ipython",
    "version": 2
   },
   "file_extension": ".py",
   "mimetype": "text/x-python",
   "name": "python",
   "nbconvert_exporter": "python",
   "pygments_lexer": "ipython2",
   "version": "2.7.16"
  }
 },
 "nbformat": 4,
 "nbformat_minor": 2
}
