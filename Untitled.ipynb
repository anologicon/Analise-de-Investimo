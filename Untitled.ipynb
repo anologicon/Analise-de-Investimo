{
 "cells": [
  {
   "cell_type": "code",
   "execution_count": null,
   "metadata": {},
   "outputs": [],
   "source": [
    "# Prova\n",
    "\n",
    "import numpy as np\n",
    "\n",
    "#Exemplo\n",
    "\n",
    "def calcularKd(ka, taxa):\n",
    "    return ((ka / 100) * (1 - (taxa / 100))) * 100\n",
    "\n",
    "def calcularKs(dadosKs):\n",
    "    return dadosKs['txLvRisco'] + (dadosKs['beta'] * (dadosKs['txRisco'] - dadosKs['txLvRisco']))\n",
    "\n",
    "def calculaKsComPremio(dadosKs):\n",
    "    return dadosKs['txLvRisco'] + (dadosKs['beta'] * (dadosKs['premioDeRisco']))\n",
    "    \n",
    "\n",
    "def calculaWacc(array_parametros):\n",
    "    dados = array_parametros;\n",
    "    \n",
    "    soma = ((dados['capitalProprio'] * dados['ks']) + (dados['capitalTerceiro'] * dados['kd']))\n",
    "    \n",
    "    return (soma / (dados['capitalTerceiro'] + dados['capitalProprio']))\n"
   ]
  },
  {
   "cell_type": "markdown",
   "metadata": {},
   "source": [
    "### Coletando Dados"
   ]
  },
  {
   "cell_type": "code",
   "execution_count": 32,
   "metadata": {},
   "outputs": [
    {
     "name": "stdout",
     "output_type": "stream",
     "text": [
      "220.0\n"
     ]
    }
   ],
   "source": [
    "financiamento = 600000000;\n",
    "\n",
    "debentures = 1000.0\n",
    "\n",
    "custoDesagio = 50.0;\n",
    "\n",
    "custoSubscricao = (debentures * (3.0 / 100));\n",
    "\n",
    "valorInicial = debentures - (custoDesagio + custoSubscricao)\n",
    "\n",
    "custoCupom = (70.0 * 10.0);\n",
    "\n",
    "x = valorInicial - custoCupom\n",
    "\n",
    "\n",
    "print x"
   ]
  },
  {
   "cell_type": "code",
   "execution_count": 45,
   "metadata": {},
   "outputs": [
    {
     "name": "stdout",
     "output_type": "stream",
     "text": [
      "8.42105263158\n",
      "0.0842105263158\n"
     ]
    }
   ],
   "source": [
    "p0 = 100.0\n",
    "d1 = 8.0\n",
    "f = 0.05\n",
    "g = 0\n",
    "\n",
    "ks = (d1 /(p0 * (1 - f))  + g) * 100\n"
   ]
  },
  {
   "cell_type": "code",
   "execution_count": 78,
   "metadata": {},
   "outputs": [
    {
     "name": "stdout",
     "output_type": "stream",
     "text": [
      "5.535\n",
      "5.903\n",
      "5.574\n",
      "5.573\n",
      "5.831\n",
      "5.51\n",
      "5.65433333333\n"
     ]
    }
   ],
   "source": [
    "\n",
    "def calculo(a, b):\n",
    "    x = a - b\n",
    "    return x / a * 100\n",
    "\n",
    "a = round(calculo(2.71, 2.56), 3)\n",
    "b = round(calculo(2.88, 2.71), 3)\n",
    "c = round(calculo(3.05, 2.88), 3)\n",
    "d = round(calculo(3.23, 3.05), 3)\n",
    "e = round(calculo(3.43, 3.23), 3)\n",
    "f = round(calculo(3.63, 3.43), 3)\n",
    "\n",
    "print a\n",
    "print b\n",
    "print c\n",
    "print d\n",
    "print e\n",
    "print f\n",
    "\n",
    "g = (a + b + c + d + e + f) / 6.0\n",
    "\n",
    "print g \n"
   ]
  },
  {
   "cell_type": "code",
   "execution_count": 83,
   "metadata": {},
   "outputs": [
    {
     "name": "stdout",
     "output_type": "stream",
     "text": [
      "72.140359793\n"
     ]
    }
   ],
   "source": [
    "\n",
    "d1 = 3.65 + (3.65 * (g / 100))\n",
    "\n",
    "p0 =  (d1 / (0.11 - (g / 100)))\n",
    "\n",
    "print p0"
   ]
  },
  {
   "cell_type": "code",
   "execution_count": null,
   "metadata": {},
   "outputs": [],
   "source": [
    "wacc = () + () + ()"
   ]
  }
 ],
 "metadata": {
  "kernelspec": {
   "display_name": "Python 2",
   "language": "python",
   "name": "python2"
  },
  "language_info": {
   "codemirror_mode": {
    "name": "ipython",
    "version": 2
   },
   "file_extension": ".py",
   "mimetype": "text/x-python",
   "name": "python",
   "nbconvert_exporter": "python",
   "pygments_lexer": "ipython2",
   "version": "2.7.16"
  }
 },
 "nbformat": 4,
 "nbformat_minor": 2
}
