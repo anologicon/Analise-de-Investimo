{
 "cells": [
  {
   "cell_type": "markdown",
   "metadata": {},
   "source": [
    "Lucro Liquido depende aos sócios\n",
    "\n",
    "\n",
    "## Capital próprio\n",
    "\n",
    "PR = Patrimonio Liquido\n",
    "\n",
    "\n",
    "A empresa não tem obrigação de remunerar os sócios\n",
    "\n",
    "Retorno pelo tempo = custo de oportunidade\n",
    "\n",
    "Taxa livre de Risco = 6%\n",
    "\n",
    "Rf = taxa livre de risco\n",
    "\n",
    "Ks = RF + b * (Rm - Rf)\n",
    "\n",
    "Ks = 6000/40000 = 15% + 4% + 19%\n",
    "\n",
    "Rf = media da selic nos ultimos 5 anos \n",
    "b = que achamos\n",
    "Rm = media do ibovespa nos ultimos 5 anos\n",
    "\n",
    "\n",
    "ks = Rf + b * (Rm - Rf)\n",
    "\n",
    "Custo de capital próprio\n",
    "\n",
    "\n"
   ]
  },
  {
   "cell_type": "code",
   "execution_count": 21,
   "metadata": {},
   "outputs": [
    {
     "name": "stdout",
     "output_type": "stream",
     "text": [
      "19.0\n"
     ]
    }
   ],
   "source": [
    "# Exercicio\n",
    "\n",
    "\n",
    "Aplicou = 40\n",
    "\n",
    "renda = 6.0 #anual\n",
    "\n",
    "rentabilidade = renda / 40.0\n",
    "\n",
    "risco = (rentabilidade * 100) + 4\n",
    "\n",
    "print risco"
   ]
  },
  {
   "cell_type": "code",
   "execution_count": 33,
   "metadata": {},
   "outputs": [],
   "source": [
    "## Tarefa\n",
    "\n"
   ]
  },
  {
   "cell_type": "code",
   "execution_count": 108,
   "metadata": {},
   "outputs": [
    {
     "name": "stdout",
     "output_type": "stream",
     "text": [
      "Selic\n",
      "\n",
      "\n",
      "Media\n",
      "18.4\n",
      "\n",
      "\n",
      "Mediana\n",
      "1965.408854842586\n",
      "\n",
      "\n",
      "Desvio Padrão\n",
      "25218.69602351381\n"
     ]
    }
   ],
   "source": [
    "import pandas as pd\n",
    "import numpy as np\n",
    "\n",
    "\n",
    "\n",
    "# https://br.investing.com/rates-bonds/u.s.-10-year-bond-yield-historical-data\n",
    "datasetEuaDezAnos = pd.read_csv('eua_dez_anos.csv')\n",
    "\n",
    "datasetEuaDezAnos.head()\n",
    "\n",
    "#Fazer Media Mediana Desvio Padrao Ibovespa e Selic\n",
    "\n",
    "dataSetSelic = pd.read_csv('selic252.csv', sep=\";\")\n",
    "\n",
    "\n",
    "dataSetSelic  = pd.DataFrame(dataSetSelic);\n",
    "\n",
    "dataSetSelic['valor'] = pd.to_numeric(dataSetSelic['valor'].str.replace(',','.'), errors='force')\n",
    "\n",
    "\n",
    "\n",
    "print \"Selic\"\n",
    "print \"\\n\"\n",
    "print \"Media\"\n",
    "print dataSetSelic['valor'].median()\n",
    "print \"\\n\"\n",
    "print \"Mediana\"\n",
    "print dataSetSelic['valor'].mean()\n",
    "print \"\\n\"\n",
    "print \"Desvio Padrão\"\n",
    "print dataSetSelic['valor'].std()"
   ]
  },
  {
   "cell_type": "code",
   "execution_count": 133,
   "metadata": {},
   "outputs": [
    {
     "data": {
      "text/plain": [
       "0      99.468,67\n",
       "1     101.812,10\n",
       "2     100.967,20\n",
       "3      97.030,30\n",
       "4      96.353,30\n",
       "5      95.414,60\n",
       "6      95.584,40\n",
       "7      97.393,70\n",
       "8      87.887,30\n",
       "9      89.504,00\n",
       "10     87.423,60\n",
       "11     79.342,40\n",
       "12     76.677,50\n",
       "13     79.220,40\n",
       "14     72.762,50\n",
       "15     76.753,60\n",
       "16     86.115,50\n",
       "17     85.365,60\n",
       "18     85.353,60\n",
       "19     84.912,70\n",
       "20     76.402,10\n",
       "21     71.971,00\n",
       "22     74.308,50\n",
       "23     74.293,50\n",
       "24     70.835,10\n",
       "25     65.920,40\n",
       "26     62.900,00\n",
       "27     62.711,50\n",
       "28     65.403,20\n",
       "29     64.984,10\n",
       "30     66.662,10\n",
       "31     64.670,80\n",
       "32     60.227,30\n",
       "33     61.906,40\n",
       "34     64.924,50\n",
       "35     58.367,00\n",
       "36     57.901,10\n",
       "37     57.308,20\n",
       "38     51.526,90\n",
       "39     48.471,70\n",
       "40     53.910,50\n",
       "41     50.055,30\n",
       "42     42.793,90\n",
       "43     40.406,00\n",
       "44     43.350,00\n",
       "45     45.120,40\n",
       "46     45.868,80\n",
       "47     45.059,30\n",
       "48     46.625,50\n",
       "49     50.864,80\n",
       "50     53.080,90\n",
       "51     52.760,50\n",
       "52     56.229,40\n",
       "53     51.150,20\n",
       "54     51.583,10\n",
       "55     46.907,70\n",
       "56     50.007,40\n",
       "57     54.724,00\n",
       "58     54.628,60\n",
       "59     54.116,00\n",
       "Name: ultimo, dtype: object"
      ]
     },
     "execution_count": 133,
     "metadata": {},
     "output_type": "execute_result"
    }
   ],
   "source": [
    "# Ibovespa\n",
    "\n",
    "dataSetIbovespa = pd.read_csv('ibovespa.csv')\n",
    "\n",
    "dataSetIbovespa['ultimo'] = dataSetIbovespa['Último']\n",
    "\n",
    "dataSetIbovespa['ultimo']\n"
   ]
  }
 ],
 "metadata": {
  "kernelspec": {
   "display_name": "Python 2",
   "language": "python",
   "name": "python2"
  },
  "language_info": {
   "codemirror_mode": {
    "name": "ipython",
    "version": 2
   },
   "file_extension": ".py",
   "mimetype": "text/x-python",
   "name": "python",
   "nbconvert_exporter": "python",
   "pygments_lexer": "ipython2",
   "version": "2.7.16"
  }
 },
 "nbformat": 4,
 "nbformat_minor": 2
}
