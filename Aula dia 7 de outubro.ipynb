{
 "cells": [
  {
   "cell_type": "markdown",
   "metadata": {},
   "source": [
    "# Analise de taxas\n",
    "\n",
    "T I R\n",
    "\n",
    "Taxa interna de retorno\n",
    "\n",
    "\n",
    "\n",
    "907 = 30 / (1+tir)¹ + 30 / (1+tir)^2 + 30 / (1+tir)^3 + 30 / (1+tir)^4 + 30 / (1+tir)^5\n",
    "\n",
    "\n",
    "A tir igual o valor do investimento, trazendo a somatorio do fluxo de caixo para o valor presente\n",
    "\n",
    "\n",
    "\n",
    "\n",
    "---\n",
    "\n",
    "\n",
    "## Exercícios\n",
    "\n",
    "Comparações de projetos\n",
    "\n",
    "PROJETO A\n",
    "\n",
    "A) -24k\n",
    "B) 11000\n",
    "C) 11000\n",
    "D) 11000\n",
    "E) 11000\n",
    "\n",
    "PROJETO B\n",
    "\n",
    "\n",
    "A) -240000\n",
    "B) 68000\n",
    "\n",
    "\n",
    "\n",
    "\n"
   ]
  }
 ],
 "metadata": {
  "kernelspec": {
   "display_name": "Python 2",
   "language": "python",
   "name": "python2"
  },
  "language_info": {
   "codemirror_mode": {
    "name": "ipython",
    "version": 2
   },
   "file_extension": ".py",
   "mimetype": "text/x-python",
   "name": "python",
   "nbconvert_exporter": "python",
   "pygments_lexer": "ipython2",
   "version": "2.7.16"
  }
 },
 "nbformat": 4,
 "nbformat_minor": 2
}
