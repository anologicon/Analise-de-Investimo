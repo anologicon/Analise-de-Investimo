{
 "cells": [
  {
   "cell_type": "markdown",
   "metadata": {},
   "source": [
    "### Referencias\n",
    "\n",
    "http://bvmf.bmfbovespa.com.br/indices/ResumoTaxaMediaCrescimento.aspx?Indice=IBOV&idioma=pt-br"
   ]
  },
  {
   "cell_type": "markdown",
   "metadata": {},
   "source": [
    " Ks = Custo Capital Proprio\n",
    " B = Beta -> Oscilação\n",
    "\n",
    "\n",
    " Correlação\n",
    "    \n",
    "Y = Empresa X = Ibovespa (exemplo)\n",
    "\n",
    "\"Se a bolça cai 1% a empresa cai 1%\"\n",
    "\n",
    "B pode ser o desvio padrão.\n",
    "o risco da empresa ao mercado.\n",
    "\n",
    "se B = 1 (Propria ocilação do mercado)\n",
    "se B > 1 (Empresa arrojada)\n",
    "se B < 1 (Empresa conservadora)\n",
    "\n",
    "B (Não mede o risco sitematico \"Risco da empresa\")\n",
    "\n",
    "Uma correlação de\n",
    "\n",
    "X = Risco mercado Y = Quantidade de ativos\n",
    "\n",
    "Risco Sistematico = \"Como se fosse um risco político\"\n",
    "\n",
    "### CAPM (existe o APT)\n",
    "\n",
    "Rf uma taxa livre de risco (\"Selic\")\n",
    "\n",
    "Aonde coloca dinheiro e a pessoa não sera afetada por uma ocilação\n",
    "\n",
    "DI - uma taxa que acompanha o SELIC\n",
    "\n",
    "RM = retorno medio do mercado (IBOVESPA)\n",
    "\n",
    "Ks = Rf + B * (Rm - Rf)\n",
    "\n",
    "Exemplo\n",
    "\n",
    "RM = Diferença dos titulos publio com os titulos de mercado;\n",
    "\n",
    "SELIC 8% a.a (a media dos ultimos 5 anos).\n",
    "IBOVESPA 12% a.a\n",
    "\n",
    "B = Beta é o multiplicador de risco\n",
    "\n",
    "se a diferença é 4% com o beta fica 8%\n",
    "\n"
   ]
  },
  {
   "cell_type": "code",
   "execution_count": 12,
   "metadata": {},
   "outputs": [
    {
     "name": "stdout",
     "output_type": "stream",
     "text": [
      "Ks1\n",
      "10.0\n",
      "Ks2\n",
      "12.0\n",
      "Ks3\n",
      "16.0\n"
     ]
    }
   ],
   "source": [
    "\n",
    "B1 = 0.5\n",
    "B2 = 1.0\n",
    "B3 = 2.0\n",
    "\n",
    "SELIC = 8.0\n",
    "IBOVESPA = 12.00\n",
    "\n",
    "Ks1 = SELIC + (B1 * (IBOVESPA - SELIC))\n",
    "\n",
    "print \"Ks1\"\n",
    "print Ks1\n",
    "\n",
    "Ks2 = SELIC + (B2 * (IBOVESPA - SELIC))\n",
    "\n",
    "print \"Ks2 quando o beta é 1 é o mesmo risco de mercado\"\n",
    "print Ks2\n",
    "\n",
    "Ks3 = SELIC + (B3 * (IBOVESPA - SELIC))\n",
    "\n",
    "print \"Ks3\"\n",
    "print Ks3"
   ]
  },
  {
   "cell_type": "markdown",
   "metadata": {},
   "source": [
    "# Conceitos vistos antes\n",
    "\n",
    "## Custo medio de  capital de terceiros\n",
    "## Custo medio de capital prorpio\n",
    "\n",
    "# Custo medio Ponderado de capital\n",
    "### CMPC ou WACC\n",
    "\n",
    "ATIVO | PASSIVO\n",
    "        Custo de terceiros (credores)\n",
    "      -------------------------------  + Somados tem que dar 100%\n",
    "        Custo Proprio\n",
    "\n",
    "\n",
    "Capital Prorpio =  60 m (P.L)\n",
    "Capital de Terceiros = 40 m \n",
    "\n",
    "Total = 100 m\n",
    "\n",
    "(pode ser valores ou percentual 'tanto faz')\n",
    "\n",
    "Custo de capital de terceiros\n",
    "kd = 12% a.a \n",
    "\n",
    "Custo de capital proprio\n",
    "Ks = 18% a.a\n",
    "\n",
    "WACC ou CMPC = (DIVIDAS (capital de terceiros) * KD) + (P.l * Ks)\n",
    "               ------------------------------------------------\n",
    "                            DIVIDAS  + P.L"
   ]
  },
  {
   "cell_type": "code",
   "execution_count": 49,
   "metadata": {},
   "outputs": [
    {
     "name": "stdout",
     "output_type": "stream",
     "text": [
      "15.6\n"
     ]
    }
   ],
   "source": [
    "#Exemplo\n",
    "\n",
    "WACC = ((40 * 0.12) + (60 * 0.18)) / 100\n",
    "\n",
    "# Porcentagem\n",
    "print WACC * 100\n",
    "\n"
   ]
  },
  {
   "cell_type": "code",
   "execution_count": 52,
   "metadata": {},
   "outputs": [
    {
     "name": "stdout",
     "output_type": "stream",
     "text": [
      "KS\n",
      "14.0738\n",
      "KD\n",
      "5.82483\n",
      "WACC2\n",
      "5.82110619835\n"
     ]
    }
   ],
   "source": [
    "# Exercício\n",
    "\n",
    "SELIC = 10.31\n",
    "IBOVESPA = 14\n",
    "BETA = 1.02\n",
    "IR = 0.34\n",
    "\n",
    "KS  = SELIC + (BETA * (IBOVESPA - SELIC))\n",
    "\n",
    "print \"KS\"\n",
    "print KS\n",
    "\n",
    "KD = 8.8255 * (1 - IR)\n",
    "\n",
    "print \"KD\"\n",
    "print KD\n",
    "\n",
    "DIVIDAS = 23586413\n",
    "PATRIMONIO = 3163\n",
    "\n",
    "WACC2 = (DIVIDAS * 0.0582) + (PATRIMONIO * 0.1407)\n",
    "\n",
    "A = (DIVIDAS + 3163);\n",
    "\n",
    "WACC2 = WACC2 / A \n",
    "\n",
    "print \"WACC2\"\n",
    "print WACC2 * 100 # 6.77%"
   ]
  }
 ],
 "metadata": {
  "kernelspec": {
   "display_name": "Python 2",
   "language": "python",
   "name": "python2"
  },
  "language_info": {
   "codemirror_mode": {
    "name": "ipython",
    "version": 2
   },
   "file_extension": ".py",
   "mimetype": "text/x-python",
   "name": "python",
   "nbconvert_exporter": "python",
   "pygments_lexer": "ipython2",
   "version": "2.7.16"
  }
 },
 "nbformat": 4,
 "nbformat_minor": 2
}
