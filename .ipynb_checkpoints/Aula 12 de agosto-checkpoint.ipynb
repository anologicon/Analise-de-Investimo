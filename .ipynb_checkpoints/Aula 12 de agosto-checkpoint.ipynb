{
 "cells": [
  {
   "cell_type": "code",
   "execution_count": 14,
   "metadata": {},
   "outputs": [
    {
     "name": "stdout",
     "output_type": "stream",
     "text": [
      "Taxa: Compra Aeronaves\n",
      "2.80929\n",
      "Taxa: Arrendemento Financeiro\n",
      "10.49571\n",
      "Taxa: Capital de giro\n",
      "6.31429\n",
      "Taxa: FINIMP\n",
      "Taxa: Compra Aeronave\n",
      "Taxa: Capital de giro\n"
     ]
    }
   ],
   "source": [
    "LIBOR = 0.46571\n",
    "SELIC = 0.57\n",
    "CDI = 5.9\n",
    "\n",
    "compra_aeronaves_taxa = ((2.55 + 4) / 2) - LIBOR\n",
    "compra_aeronaves_valor = 10042\n",
    "\n",
    "print \"Taxa: Compra Aeronaves\"\n",
    "print(compra_aeronaves_taxa)\n",
    "\n",
    "print \"Taxa: Arrendemento Financeiro\"\n",
    "arrendamento_financeiro_taxa = ((2.05 + 5.96 )/ 2) + 5 + LIBOR\n",
    "arrendamneto_financeiro_valor = 949891\n",
    "\n",
    "print(arrendamento_financeiro_taxa)\n",
    "\n",
    "\n",
    "print \"Taxa: Capital de giro\"\n",
    "capital_de_giro_taxa = 0.88 + 5.90 - LIBOR\n",
    "capital_de_giro_valor = 1656947\n",
    "\n",
    "print capital_de_giro_taxa\n",
    "\n",
    "print \"Taxa: FINIMP\"\n",
    "finimp_taxa = 5.4\n",
    "finimp_valor = 0\n",
    "\n",
    "print \"Taxa: Compra Aeronave\"\n",
    "aero_taxa = (6.0 + 6.50) / 2 + SELIC + 5.46\n",
    "aero_valor = 192.861\n",
    "\n",
    "print \"Taxa: Capital de giro\"\n",
    "capital_giro_taxa = 5 + 125 + 126 / 2 \n"
   ]
  },
  {
   "cell_type": "code",
   "execution_count": null,
   "metadata": {},
   "outputs": [],
   "source": []
  }
 ],
 "metadata": {
  "kernelspec": {
   "display_name": "Python 2",
   "language": "python",
   "name": "python2"
  },
  "language_info": {
   "codemirror_mode": {
    "name": "ipython",
    "version": 2
   },
   "file_extension": ".py",
   "mimetype": "text/x-python",
   "name": "python",
   "nbconvert_exporter": "python",
   "pygments_lexer": "ipython2",
   "version": "2.7.16"
  }
 },
 "nbformat": 4,
 "nbformat_minor": 2
}
