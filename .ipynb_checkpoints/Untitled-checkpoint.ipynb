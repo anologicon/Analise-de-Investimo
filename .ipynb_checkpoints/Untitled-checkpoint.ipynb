{
 "cells": [
  {
   "cell_type": "markdown",
   "metadata": {},
   "source": [
    "Lucro Liquido depende aos sócios\n",
    "\n",
    "\n",
    "## Capital próprio\n",
    "\n",
    "PR = Patrimonio Liquido\n",
    "\n",
    "\n",
    "A empresa não tem obrigação de remunerar os sócios\n",
    "\n",
    "Retorno pelo tempo = custo de oportunidade\n",
    "\n",
    "Taxa livre de Risco = 6%\n",
    "\n",
    "Rf = taxa livre de risco\n",
    "\n",
    "Ks = RF + b * (Rm - Rf)\n",
    "\n",
    "Ks = 6000/40000 = 15% + 4% + 19%\n",
    "\n",
    "\n",
    "\n",
    "\n"
   ]
  },
  {
   "cell_type": "code",
   "execution_count": 21,
   "metadata": {},
   "outputs": [
    {
     "name": "stdout",
     "output_type": "stream",
     "text": [
      "19.0\n"
     ]
    }
   ],
   "source": [
    "# Exercicio\n",
    "\n",
    "\n",
    "Aplicou = 40\n",
    "\n",
    "renda = 6.0 #anual\n",
    "\n",
    "rentabilidade = renda / 40.0\n",
    "\n",
    "risco = (rentabilidade * 100) + 4\n",
    "\n",
    "print risco"
   ]
  },
  {
   "cell_type": "code",
   "execution_count": 30,
   "metadata": {},
   "outputs": [
    {
     "data": {
      "text/html": [
       "<div>\n",
       "<style scoped>\n",
       "    .dataframe tbody tr th:only-of-type {\n",
       "        vertical-align: middle;\n",
       "    }\n",
       "\n",
       "    .dataframe tbody tr th {\n",
       "        vertical-align: top;\n",
       "    }\n",
       "\n",
       "    .dataframe thead th {\n",
       "        text-align: right;\n",
       "    }\n",
       "</style>\n",
       "<table border=\"1\" class=\"dataframe\">\n",
       "  <thead>\n",
       "    <tr style=\"text-align: right;\">\n",
       "      <th></th>\n",
       "      <th>Data</th>\n",
       "      <th>Último</th>\n",
       "      <th>Abertura</th>\n",
       "      <th>Máxima</th>\n",
       "      <th>Mínima</th>\n",
       "      <th>Var%</th>\n",
       "    </tr>\n",
       "  </thead>\n",
       "  <tbody>\n",
       "    <tr>\n",
       "      <th>0</th>\n",
       "      <td>Ago 19</td>\n",
       "      <td>1,603</td>\n",
       "      <td>2,027</td>\n",
       "      <td>2,058</td>\n",
       "      <td>1,495</td>\n",
       "      <td>-20,13%</td>\n",
       "    </tr>\n",
       "    <tr>\n",
       "      <th>1</th>\n",
       "      <td>Jul 19</td>\n",
       "      <td>2,007</td>\n",
       "      <td>2,045</td>\n",
       "      <td>2,150</td>\n",
       "      <td>1,939</td>\n",
       "      <td>0,00%</td>\n",
       "    </tr>\n",
       "    <tr>\n",
       "      <th>2</th>\n",
       "      <td>Jun 19</td>\n",
       "      <td>2,007</td>\n",
       "      <td>2,126</td>\n",
       "      <td>2,178</td>\n",
       "      <td>1,974</td>\n",
       "      <td>-5,91%</td>\n",
       "    </tr>\n",
       "    <tr>\n",
       "      <th>3</th>\n",
       "      <td>Mai 19</td>\n",
       "      <td>2,133</td>\n",
       "      <td>2,509</td>\n",
       "      <td>2,578</td>\n",
       "      <td>2,126</td>\n",
       "      <td>-14,82%</td>\n",
       "    </tr>\n",
       "    <tr>\n",
       "      <th>4</th>\n",
       "      <td>Abr 19</td>\n",
       "      <td>2,504</td>\n",
       "      <td>2,430</td>\n",
       "      <td>2,614</td>\n",
       "      <td>2,424</td>\n",
       "      <td>4,03%</td>\n",
       "    </tr>\n",
       "  </tbody>\n",
       "</table>\n",
       "</div>"
      ],
      "text/plain": [
       "     Data Último Abertura Máxima Mínima     Var%\n",
       "0  Ago 19  1,603    2,027  2,058  1,495  -20,13%\n",
       "1  Jul 19  2,007    2,045  2,150  1,939    0,00%\n",
       "2  Jun 19  2,007    2,126  2,178  1,974   -5,91%\n",
       "3  Mai 19  2,133    2,509  2,578  2,126  -14,82%\n",
       "4  Abr 19  2,504    2,430  2,614  2,424    4,03%"
      ]
     },
     "execution_count": 30,
     "metadata": {},
     "output_type": "execute_result"
    }
   ],
   "source": [
    "import pandas as pd\n",
    "import numpy as np\n",
    "\n",
    "# https://br.investing.com/rates-bonds/u.s.-10-year-bond-yield-historical-data\n",
    "datasetEuaDezAnos = pd.read_csv('eua_dez_anos.csv')\n",
    "\n",
    "datasetEuaDezAnos.head()"
   ]
  }
 ],
 "metadata": {
  "kernelspec": {
   "display_name": "Python 2",
   "language": "python",
   "name": "python2"
  },
  "language_info": {
   "codemirror_mode": {
    "name": "ipython",
    "version": 2
   },
   "file_extension": ".py",
   "mimetype": "text/x-python",
   "name": "python",
   "nbconvert_exporter": "python",
   "pygments_lexer": "ipython2",
   "version": "2.7.16"
  }
 },
 "nbformat": 4,
 "nbformat_minor": 2
}
