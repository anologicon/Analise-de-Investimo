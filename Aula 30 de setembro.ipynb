{
 "cells": [
  {
   "cell_type": "markdown",
   "metadata": {},
   "source": [
    "## Orçamento do investimento\n",
    "\n",
    "*Utilizando o excel invest facil, fluxo de caixa*\n",
    "\n",
    "*Todo: Passar os metodos de calculos para ca*"
   ]
  },
  {
   "cell_type": "markdown",
   "metadata": {},
   "source": [
    "- Aquisição -> investimento\n",
    "\n",
    "Subistituição\n",
    "\n",
    "* Equipamento antigo\n",
    "\n",
    "\n",
    "Valor residual\n",
    "\n",
    " - Fim do projeto, o valor que sera obtido de um equipamento antigo"
   ]
  },
  {
   "cell_type": "markdown",
   "metadata": {},
   "source": [
    "# como vender uma maquina\n",
    "\n",
    "- Valor dela no dia da compra\n",
    "- Valor de depreciação (tipo 5 anos de uso)\n",
    "\n",
    "\n",
    "\n",
    "\n",
    "Calculo de depreciacao\n",
    "\n",
    "Vida util de 5 anos\n",
    "\n",
    "Valor de compra 95 mil\n",
    "\n",
    "Depressiação Anula = 95 / 5 = 19\n",
    "\n",
    "Tempo de depreciação = 3 anos\n",
    "\n",
    " - Depreciação acomulada = 19 * 3 = 57\n",
    "    \n",
    "Valor liquido historico = 95 - 57 = 39"
   ]
  },
  {
   "cell_type": "markdown",
   "metadata": {},
   "source": [
    "# Depresciação\n",
    "\n",
    "É o valor atual de venda dividido pelo tempo de vida util"
   ]
  }
 ],
 "metadata": {
  "kernelspec": {
   "display_name": "Python 2",
   "language": "python",
   "name": "python2"
  },
  "language_info": {
   "codemirror_mode": {
    "name": "ipython",
    "version": 2
   },
   "file_extension": ".py",
   "mimetype": "text/x-python",
   "name": "python",
   "nbconvert_exporter": "python",
   "pygments_lexer": "ipython2",
   "version": "2.7.16"
  }
 },
 "nbformat": 4,
 "nbformat_minor": 2
}
