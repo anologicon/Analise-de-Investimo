{
 "cells": [
  {
   "cell_type": "markdown",
   "metadata": {},
   "source": [
    "Lucro Liquido depende aos sócios\n",
    "\n",
    "\n",
    "## Capital próprio\n",
    "\n",
    "PR = Patrimonio Liquido\n",
    "\n",
    "\n",
    "A empresa não tem obrigação de remunerar os sócios\n",
    "\n",
    "Retorno pelo tempo = custo de oportunidade\n",
    "\n",
    "Taxa livre de Risco = 6%\n",
    "\n",
    "Rf = taxa livre de risco\n",
    "\n",
    "Ks = RF + b * (Rm - Rf)\n",
    "\n",
    "Ks = 6000/40000 = 15% + 4% + 19%\n",
    "\n",
    "Rf = media da selic nos ultimos 5 anos \n",
    "b = que achamos\n",
    "Rm = media do ibovespa nos ultimos 5 anos\n",
    "\n",
    "\n",
    "ks = Rf + b * (Rm - Rf)\n",
    "\n",
    "Custo de capital próprio\n",
    "\n",
    "\n"
   ]
  },
  {
   "cell_type": "code",
   "execution_count": 1,
   "metadata": {},
   "outputs": [
    {
     "name": "stdout",
     "output_type": "stream",
     "text": [
      "19.0\n"
     ]
    }
   ],
   "source": [
    "# Exercicio\n",
    "\n",
    "\n",
    "Aplicou = 40\n",
    "\n",
    "renda = 6.0 #anual\n",
    "\n",
    "rentabilidade = renda / 40.0\n",
    "\n",
    "risco = (rentabilidade * 100) + 4\n",
    "\n",
    "print risco"
   ]
  },
  {
   "cell_type": "code",
   "execution_count": 2,
   "metadata": {},
   "outputs": [],
   "source": [
    "## Tarefa\n",
    "\n"
   ]
  },
  {
   "cell_type": "code",
   "execution_count": 3,
   "metadata": {},
   "outputs": [
    {
     "name": "stdout",
     "output_type": "stream",
     "text": [
      "Selic\n",
      "\n",
      "\n",
      "Media\n",
      "18.4\n",
      "\n",
      "\n",
      "Mediana\n",
      "1965.408854842586\n",
      "\n",
      "\n",
      "Desvio Padrão\n",
      "25218.69602351381\n"
     ]
    }
   ],
   "source": [
    "import pandas as pd\n",
    "import numpy as np\n",
    "\n",
    "pd.options.display.max_columns = None\n",
    "\n",
    "def trata_valor_maluco(valor):\n",
    "    return valor.replace('.','').replace(',','.')\n",
    "\n",
    "# https://br.investing.com/rates-bonds/u.s.-10-year-bond-yield-historical-data\n",
    "datasetEuaDezAnos = pd.read_csv('eua_dez_anos.csv')\n",
    "\n",
    "datasetEuaDezAnos.head()\n",
    "\n",
    "#Fazer Media Mediana Desvio Padrao Ibovespa e Selic\n",
    "\n",
    "dataSetSelic = pd.read_csv('selic252.csv', sep=\";\")\n",
    "\n",
    "\n",
    "dataSetSelic  = pd.DataFrame(dataSetSelic);\n",
    "\n",
    "dataSetSelic['valor'] = pd.to_numeric(dataSetSelic['valor'].str.replace(',','.'), errors='force')\n",
    "\n",
    "print \"Selic\"\n",
    "print \"\\n\"\n",
    "print \"Media\"\n",
    "print dataSetSelic['valor'].median()\n",
    "print \"\\n\"\n",
    "print \"Mediana\"\n",
    "print dataSetSelic['valor'].mean()\n",
    "print \"\\n\"\n",
    "print \"Desvio Padrão\"\n",
    "print dataSetSelic['valor'].std()"
   ]
  },
  {
   "cell_type": "code",
   "execution_count": 4,
   "metadata": {},
   "outputs": [
    {
     "name": "stdout",
     "output_type": "stream",
     "text": [
      "Ibovespa\n",
      "\n",
      "\n",
      "Media\n",
      "64797.65\n",
      "\n",
      "\n",
      "Mediana\n",
      "67438.01116666666\n",
      "\n",
      "\n",
      "Desvio Padrão\n",
      "17809.55816049987\n"
     ]
    }
   ],
   "source": [
    "# Ibovespa\n",
    "\n",
    "dataSetIbovespa = pd.read_csv('ibovespa.csv')\n",
    "\n",
    "dataSetIbovespa['ultimo'] = dataSetIbovespa['Último']\n",
    "\n",
    "dataSetIbovespa['ultimo'] = dataSetIbovespa['ultimo'].apply(trata_valor_maluco);\n",
    "\n",
    "dataSetIbovespa['ultimo'] = pd.to_numeric(dataSetIbovespa['ultimo'], errors='force')\n",
    "\n",
    "print \"Ibovespa\"\n",
    "print \"\\n\"\n",
    "print \"Media\"\n",
    "print dataSetIbovespa['ultimo'].median()\n",
    "print \"\\n\"\n",
    "print \"Mediana\"\n",
    "print dataSetIbovespa['ultimo'].mean()\n",
    "print \"\\n\"\n",
    "print \"Desvio Padrão\"\n",
    "print dataSetIbovespa['ultimo'].std()"
   ]
  },
  {
   "cell_type": "code",
   "execution_count": null,
   "metadata": {},
   "outputs": [],
   "source": []
  }
 ],
 "metadata": {
  "kernelspec": {
   "display_name": "Python 2",
   "language": "python",
   "name": "python2"
  },
  "language_info": {
   "codemirror_mode": {
    "name": "ipython",
    "version": 2
   },
   "file_extension": ".py",
   "mimetype": "text/x-python",
   "name": "python",
   "nbconvert_exporter": "python",
   "pygments_lexer": "ipython2",
   "version": "2.7.16"
  }
 },
 "nbformat": 4,
 "nbformat_minor": 2
}
