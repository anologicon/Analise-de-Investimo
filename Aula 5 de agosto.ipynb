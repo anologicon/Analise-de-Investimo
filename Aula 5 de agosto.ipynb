{
 "cells": [
  {
   "cell_type": "markdown",
   "metadata": {},
   "source": [
    "## Aula 5 de agosto\n",
    "\n",
    "https://www.fundamentus.com.br/index.php\n",
    "\n",
    "*Risco de credito*\n",
    "\n",
    "https://www.standardandpoors.com/pt_LA/web/guest/home"
   ]
  },
  {
   "cell_type": "markdown",
   "metadata": {},
   "source": [
    "### Risco"
   ]
  },
  {
   "cell_type": "markdown",
   "metadata": {},
   "source": [
    "- \"Chance de perder\""
   ]
  },
  {
   "cell_type": "markdown",
   "metadata": {},
   "source": [
    "_Citado: Warren Buffett._"
   ]
  },
  {
   "cell_type": "markdown",
   "metadata": {},
   "source": [
    "### Risco de mercado"
   ]
  },
  {
   "cell_type": "markdown",
   "metadata": {},
   "source": [
    "- Oscilação => `Desvio Padrão`"
   ]
  },
  {
   "cell_type": "markdown",
   "metadata": {},
   "source": [
    "### Serie temporal\n",
    "\n",
    "_Plano Cartesiano_\n",
    "\n",
    "`X` -> Tempo\n",
    "`Y` -> Valor"
   ]
  },
  {
   "cell_type": "markdown",
   "metadata": {},
   "source": [
    "### Desvio Padrão\n",
    "\n",
    "O quanto algo pode ocilar da media"
   ]
  },
  {
   "cell_type": "markdown",
   "metadata": {},
   "source": [
    "### Risco de crédito ou Risco de contra parte\n",
    "\n",
    "_Citado: Indice de Individamento `quando for alto as taxas do mercado serão altas`_\n",
    "\n",
    "Ações não tem risco de credito pois não precisam devolver o valor\n",
    "    \n",
    "\n",
    "\n",
    "- \"Calote\"\n"
   ]
  },
  {
   "cell_type": "markdown",
   "metadata": {},
   "source": [
    "### Risco de crédito ou Rating\n",
    "\n",
    "_ Curva de jutos = `relação doo tempo e a taxa`_\n",
    "_ Maturidade = \"A quantidade de emprestimo ao longo do tempo\"\n",
    "\n",
    "_Baixo Risco = \"Tesouro Direto\"_\n",
    "\n",
    "_Titulo Privados_ = \"Tituos de empresas\"\n",
    "\n",
    "* Titulo Privado são maiores por causa do risco de crédito*\n",
    "\n",
    "Quanto amior seu rating de credito maior seu score https://www.standardandpoors.com/pt_LA/web/guest/home\n",
    "\n",
    "\n",
    "\n",
    "\n",
    "`Y` -> Taxa de Juros\n",
    "`X` -> Tempo\n",
    "\n",
    "\n"
   ]
  },
  {
   "cell_type": "markdown",
   "metadata": {},
   "source": [
    "### Risco de liquidez\n",
    "\n",
    "- Transformar os ativos em dinheiro\n",
    "\n",
    "Quanto mais negocio ou mercado que você tem, menor risco de liquidez\n",
    "\n"
   ]
  },
  {
   "cell_type": "markdown",
   "metadata": {},
   "source": [
    "## Custo de capital de terceiros\n",
    "\n",
    "- KD = custo efetivo\n",
    "- KA = Custo aparente\n",
    "- IR = Alicota de imposto de renda\n",
    "\n",
    "_KD é sempre menor que o KA_ \n",
    "\n",
    "*Kd sempre tem menos imposto*\n",
    "\n",
    "`Kd = Ka x (1 - IR)`\n",
    "\n",
    "---\n",
    "\n",
    "### Exemplo\n",
    "\n",
    "Debentures 2023\n",
    "\n",
    "`i = 10% a.a`\n",
    "`IR/CSLL = 34%\n",
    "`"
   ]
  },
  {
   "cell_type": "code",
   "execution_count": 28,
   "metadata": {},
   "outputs": [
    {
     "name": "stdout",
     "output_type": "stream",
     "text": [
      "6.6 %\n"
     ]
    }
   ],
   "source": [
    "kd = 0.10 * (1 -0.34)\n",
    "\n",
    "#Taxa Unitariat\n",
    "#kd\n",
    "\n",
    "#Percentual\n",
    "kd = kd * 100;\n",
    "\n",
    "percent = ' %';\n",
    "\n",
    "kdString = str(kd);\n",
    "\n",
    "print(kdString+percent)"
   ]
  },
  {
   "cell_type": "markdown",
   "metadata": {},
   "source": [
    "## Cusdo de capital próprio\n",
    "\n",
    "_Acioninsta que empresas que dão lucro_\n",
    "\n",
    "\n",
    "_Remuneração sobre o tempo_ \n",
    "Ks = `Remuneração/Tempo` + \"Risco\" \n",
    "\n",
    "Boa Remuneração/Tempo\n",
    "- \"Selic\"\n",
    "- \"DI\"\n",
    "- \"Poupança\"\n",
    "\n",
    "ou seja +- 6% a.a (Selic)\n",
    "\n",
    "_Ks -> Custo de capital proprio_\n"
   ]
  },
  {
   "cell_type": "markdown",
   "metadata": {},
   "source": [
    "## CAPM Capital Asset Price Management\n",
    "\n",
    "ks = Rf + B * (Rm - Rf) \n",
    "\n",
    "## Forma taxa equivalente\n",
    "\n",
    "Q = Quero\n",
    "\n",
    "iq = ([ 1 + it ]^q/t)-1 x 100 \n",
    "\n",
    "Rm = iq\n",
    "\n",
    "_Saber a Medida Empresarial = IBOVESPA_\n",
    "_SMP500 media de valores de NY_\n",
    "\n",
    "_Taxa de Juros_\n",
    "Ks = Custo de capital Proprio\n",
    "Rf = Taxa livre de risco\n",
    "B = Beta\n",
    "Rm = Retorno medio de mercado\n",
    "\n",
    "### Beta\n",
    "\n",
    "Beta = inclinação da reta = y = a x + b\n",
    "\n",
    "RI = saber as dividas das empresas (_Ri natura no google_)\n"
   ]
  },
  {
   "cell_type": "markdown",
   "metadata": {},
   "source": [
    "## Exemplo \n",
    "\n",
    "https://br.investing.com/indices/us-spx-500-historical-data"
   ]
  },
  {
   "cell_type": "code",
   "execution_count": 46,
   "metadata": {},
   "outputs": [
    {
     "name": "stdout",
     "output_type": "stream",
     "text": [
      "1.0\n"
     ]
    }
   ],
   "source": [
    "i = (1 + 178.73)**(1/10)\n",
    "\n",
    "# 10.79% a.a\n",
    "\n",
    "print(i) "
   ]
  },
  {
   "cell_type": "code",
   "execution_count": null,
   "metadata": {},
   "outputs": [],
   "source": [
    "## Exemplo\n",
    "\n",
    "Ibovespa: 12% a.a = Rm\n",
    "Selic: 9% a.a = Rf\n",
    "\n",
    "# Empresas\n",
    "Ba = 0.5\n",
    "Bb = 2\n",
    "\n",
    "\n",
    "# Empresa A\n",
    "#Ks1 = 9 + 0.5 * (12% - 9%)\n",
    "#Ksa = 9 + 0.5 * (3%)\n",
    "#Ksa = 9 + 1.5%\n",
    "#Ksa = 10.50% a.a\n",
    "\n",
    "# Empresa B\n",
    "#Ksb = 9% * 2 * (12% - 9%)\n",
    "#Ksb = 9% + 6%\n",
    "#Ksb = 15%"
   ]
  }
 ],
 "metadata": {
  "kernelspec": {
   "display_name": "Python 2",
   "language": "python",
   "name": "python2"
  },
  "language_info": {
   "codemirror_mode": {
    "name": "ipython",
    "version": 2
   },
   "file_extension": ".py",
   "mimetype": "text/x-python",
   "name": "python",
   "nbconvert_exporter": "python",
   "pygments_lexer": "ipython2",
   "version": "2.7.16"
  }
 },
 "nbformat": 4,
 "nbformat_minor": 2
}
