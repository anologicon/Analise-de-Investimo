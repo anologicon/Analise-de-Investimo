{
 "cells": [
  {
   "cell_type": "markdown",
   "metadata": {},
   "source": [
    "## Aula 5 de agosto\n",
    "\n",
    "https://www.fundamentus.com.br/index.php\n",
    "\n",
    "*Risco de credito*\n",
    "\n",
    "https://www.standardandpoors.com/pt_LA/web/guest/home"
   ]
  },
  {
   "cell_type": "markdown",
   "metadata": {},
   "source": [
    "### Risco"
   ]
  },
  {
   "cell_type": "markdown",
   "metadata": {},
   "source": [
    "- \"Chance de perder\""
   ]
  },
  {
   "cell_type": "markdown",
   "metadata": {},
   "source": [
    "_Citado: Warren Buffett._"
   ]
  },
  {
   "cell_type": "markdown",
   "metadata": {},
   "source": [
    "### Risco de mercado"
   ]
  },
  {
   "cell_type": "markdown",
   "metadata": {},
   "source": [
    "- Oscilação => `Desvio Padrão`"
   ]
  },
  {
   "cell_type": "markdown",
   "metadata": {},
   "source": [
    "### Serie temporal\n",
    "\n",
    "_Plano Cartesiano_\n",
    "\n",
    "`X` -> Tempo\n",
    "`Y` -> Valor"
   ]
  },
  {
   "cell_type": "markdown",
   "metadata": {},
   "source": [
    "### Desvio Padrão\n",
    "\n",
    "O quanto algo pode ocilar da media"
   ]
  },
  {
   "cell_type": "markdown",
   "metadata": {},
   "source": [
    "### Risco de crédito ou Risco de contra parte\n",
    "\n",
    "_Citado: Indice de Individamento `quando for alto as taxas do mercado serão altas`_\n",
    "\n",
    "Ações não tem risco de credito pois não precisam devolver o valor\n",
    "    \n",
    "\n",
    "\n",
    "- \"Calote\"\n"
   ]
  },
  {
   "cell_type": "markdown",
   "metadata": {},
   "source": [
    "### Risco de crédito ou Rating\n",
    "\n",
    "_ Curva de jutos = `relação doo tempo e a taxa`_\n",
    "_ Maturidade = \"A quantidade de emprestimo ao longo do tempo\"\n",
    "\n",
    "_Baixo Risco = \"Tesouro Direto\"_\n",
    "\n",
    "_Titulo Privados_ = \"Tituos de empresas\"\n",
    "\n",
    "* Titulo Privado são maiores por causa do risco de crédito*\n",
    "\n",
    "Quanto amior seu rating de credito maior seu score https://www.standardandpoors.com/pt_LA/web/guest/home\n",
    "\n",
    "\n",
    "\n",
    "\n",
    "`Y` -> Taxa de Juros\n",
    "`X` -> Tempo\n",
    "\n",
    "\n"
   ]
  },
  {
   "cell_type": "markdown",
   "metadata": {},
   "source": [
    "### Risco de liquidez\n",
    "\n",
    "- Transformar os ativos em dinheiro\n",
    "\n",
    "Quanto mais negocio ou mercado que você tem, menor risco de liquidez\n",
    "\n"
   ]
  },
  {
   "cell_type": "markdown",
   "metadata": {},
   "source": [
    "## Custo de capital de terceiros\n",
    "\n",
    "- KD = custo efetivo\n",
    "- KA = Custo aparente\n",
    "- IR = Alicota de imposto de renda\n",
    "\n",
    "_KD é sempre menor que o KA_ \n",
    "\n",
    "*Kd sempre tem menos imposto*\n",
    "\n",
    "`Kd = Ka x (1 - IR)`\n",
    "\n",
    "---\n",
    "\n",
    "### Exemplo\n",
    "\n",
    "Debentures 2023\n",
    "\n",
    "`i = 10% a.a`\n",
    "`IR/CSLL = 34%\n",
    "`"
   ]
  },
  {
   "cell_type": "code",
   "execution_count": 22,
   "metadata": {},
   "outputs": [
    {
     "name": "stdout",
     "output_type": "stream",
     "text": [
      "6.6\n"
     ]
    }
   ],
   "source": [
    "kd = 0.10 * (1 -0.34)\n",
    "\n",
    "#Taxa Unitaria\n",
    "#kd\n",
    "\n",
    "#Percentual\n",
    "kd = kd * 100;\n",
    "\n",
    "print(kd)"
   ]
  },
  {
   "cell_type": "markdown",
   "metadata": {},
   "source": [
    "## Cusdo de capital próprio\n",
    "\n",
    "_Acioninsta que empresas que dão lucro_\n",
    "\n",
    "\n",
    "_Remuneração sobre o tempo_ \n",
    "Ks = `Remuneração/Tempo` + \"Risco\" \n",
    "\n",
    "Boa Remuneração/Tempo\n",
    "- \"Selic\"\n",
    "- \"DI\"\n",
    "- \"Poupança\"\n",
    "\n",
    "ou seja +- 6% a.a (Selic)\n",
    "\n",
    "_Ks -> Custo de capital proprio_\n"
   ]
  },
  {
   "cell_type": "code",
   "execution_count": null,
   "metadata": {},
   "outputs": [],
   "source": []
  }
 ],
 "metadata": {
  "kernelspec": {
   "display_name": "Python 2",
   "language": "python",
   "name": "python2"
  },
  "language_info": {
   "codemirror_mode": {
    "name": "ipython",
    "version": 2
   },
   "file_extension": ".py",
   "mimetype": "text/x-python",
   "name": "python",
   "nbconvert_exporter": "python",
   "pygments_lexer": "ipython2",
   "version": "2.7.16"
  }
 },
 "nbformat": 4,
 "nbformat_minor": 2
}
