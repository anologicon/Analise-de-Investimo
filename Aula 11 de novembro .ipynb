{
 "cells": [
  {
   "cell_type": "markdown",
   "metadata": {},
   "source": [
    "Projeção economica\n",
    "\n",
    "\n",
    "Cenários:\n",
    "    \n",
    "Otimisa = (expansão) - Prob 20% = Receita sobe 30% = Lucro 2m\n",
    "\n",
    "Base = (analista - peso maior) - Prob 50% = Receita fica 0% = Lucro de 1.8m\n",
    "\n",
    "Pessimista = (regressão da economia) - Prob 30% = Receita cai 20% = Lucro 1,2m\n",
    "\n",
    "Lei dos grandes numeros ?\n",
    "\n",
    "\n",
    "Estatistaca (Distribuição de probabiliadde (dis normal)\n",
    "\n",
    "Probabilidade ex: Lucro\n",
    "\n",
    "\n",
    "(Media aritimetica ponderada)\n",
    "\n",
    "2 * 20% \n",
    "\n",
    "1.8 * 50% \n",
    "\n",
    "3 * 30%\n",
    "\n",
    "Media ponderada = 1.66m\n"
   ]
  },
  {
   "cell_type": "markdown",
   "metadata": {},
   "source": [
    "# Configurando ambiente"
   ]
  },
  {
   "cell_type": "code",
   "execution_count": 1,
   "metadata": {},
   "outputs": [],
   "source": [
    "import sys\n",
    "#!pip install xgboost\n"
   ]
  },
  {
   "cell_type": "code",
   "execution_count": 2,
   "metadata": {},
   "outputs": [],
   "source": [
    "def calculaWacc(array_parametros):\n",
    "    dados = array_parametros;\n",
    "    \n",
    "    soma = ((dados['capitalProprio'] * dados['ks']) + (dados['capitalTerceiro'] * dados['kd']))\n",
    "    \n",
    "    return (soma / (dados['capitalTerceiro'] + dados['capitalProprio']))"
   ]
  },
  {
   "cell_type": "code",
   "execution_count": 3,
   "metadata": {},
   "outputs": [],
   "source": [
    "import numpy as np\n",
    "import pandas as pd\n",
    "import seaborn as sns\n",
    "import matplotlib.pyplot as plt\n",
    "from xgboost import XGBRegressor\n",
    "\n",
    "\n",
    "\n",
    "pd.set_option('display.max_columns', None) #display all columns\n",
    "pd.set_option('display.max_rows', None) #display all rows"
   ]
  },
  {
   "cell_type": "markdown",
   "metadata": {},
   "source": [
    "# Preparando os dados"
   ]
  },
  {
   "cell_type": "code",
   "execution_count": 4,
   "metadata": {},
   "outputs": [],
   "source": [
    "\n",
    "custosAnuais = [\n",
    "    {\"ano\":1, \"valor\": 487716},\n",
    "    {\"ano\":2, \"valor\": 547716},\n",
    "    {\"ano\":3, \"valor\": 607716},\n",
    "];\n",
    "\n",
    "produtos = [\n",
    "    {\n",
    "        \"mix\": 0.14,\n",
    "        \"custo\":1.26,\n",
    "        \"preco\":4.9,\n",
    "        \"ano\":0,\n",
    "        \"mcu\": 3.64,\n",
    "        \"nome\": \"Pastel Grande\",\n",
    "        \"rateio\": 0,\n",
    "        \"pde\": 0,\n",
    "        \"quantidade\":30000,\n",
    "        \"receita\":0,\n",
    "    },\n",
    "    {\n",
    "        \"mix\": 0.14,\n",
    "        \"custo\":0.81,\n",
    "        \"preco\":3.8,\n",
    "        \"ano\":0,\n",
    "        \"mcu\": 2.99,\n",
    "        \"nome\": \"Pastel Medio\",\n",
    "        \"rateio\": 0,\n",
    "        \"pde\": 0,\n",
    "        \"quantidade\":38000,\n",
    "        \"receita\":0,\n",
    "    },\n",
    "    {\n",
    "        \"mix\": 0.24,\n",
    "        \"custo\":0.26,\n",
    "        \"preco\":1.5,\n",
    "        \"ano\":0,\n",
    "        \"mcu\": 1.24,\n",
    "        \"nome\": \"Mini Pastel\",\n",
    "        \"rateio\": 0,\n",
    "        \"pde\": 0,\n",
    "        \"quantidade\":110000,\n",
    "        \"receita\":0,\n",
    "    },\n",
    "    {\n",
    "        \"mix\": 0.14,\n",
    "        \"custo\":1.84,\n",
    "        \"preco\":6.1,\n",
    "        \"ano\":0,\n",
    "        \"mcu\": 4.26,\n",
    "        \"nome\": \"Cheeseburguers\",\n",
    "        \"rateio\": 0,\n",
    "        \"pde\": 0,\n",
    "        \"quantidade\":18000,\n",
    "        \"receita\":0,\n",
    "    },\n",
    "    {\n",
    "        \"mix\": 0.10,\n",
    "        \"custo\":4.68,\n",
    "        \"preco\":11.38,\n",
    "        \"ano\":0,\n",
    "        \"mcu\": 6.7,\n",
    "        \"nome\": \"Cestaas\",\n",
    "        \"rateio\": 0,\n",
    "        \"pde\": 0,\n",
    "        \"quantidade\":8964,\n",
    "        \"receita\":0,\n",
    "    },\n",
    "    {\n",
    "        \"mix\": 0.10,\n",
    "        \"custo\":4.99,\n",
    "        \"preco\":7.95,\n",
    "        \"ano\":0,\n",
    "        \"mcu\": 2.96,\n",
    "        \"nome\": \"Minutas\",\n",
    "        \"rateio\": 0,\n",
    "        \"pde\": 0,\n",
    "        \"quantidade\":18000,\n",
    "        \"receita\":0,\n",
    "    },\n",
    "    {\n",
    "        \"mix\": 0.14,\n",
    "        \"custo\":2.6,\n",
    "        \"preco\":3.6,\n",
    "        \"ano\":0,\n",
    "        \"mcu\": 1,\n",
    "        \"nome\": \"Bebidas\",\n",
    "        \"rateio\": 0,\n",
    "        \"pde\": 0,\n",
    "        \"quantidade\":67000,\n",
    "        \"receita\":0,\n",
    "    }\n",
    "];"
   ]
  },
  {
   "cell_type": "code",
   "execution_count": 5,
   "metadata": {
    "scrolled": true
   },
   "outputs": [],
   "source": [
    "a = []\n",
    "\n",
    "for anoCusto in custosAnuais:\n",
    "    for produto in produtos:\n",
    "        produto[\"rateio\"] = anoCusto[\"valor\"] * produto[\"mix\"]\n",
    "        produto[\"pde\"] = produto[\"rateio\"] / produto[\"mcu\"]\n",
    "        produto[\"ano\"] = anoCusto[\"ano\"]\n",
    "    \n",
    "        a.append({\n",
    "            \"nome\": produto[\"nome\"],\n",
    "            \"mix\": produto[\"mix\"],\n",
    "            \"ano\":produto[\"ano\"],\n",
    "            \"mcu\": produto[\"mcu\"],\n",
    "            \"custo\": produto[\"custo\"] * produto[\"quantidade\"],\n",
    "            \"preco\": produto[\"preco\"],\n",
    "            \"rateio\": produto[\"rateio\"],\n",
    "            \"pde\": produto[\"pde\"],\n",
    "            \"receita\": produto[\"preco\"] * produto[\"quantidade\"]\n",
    "        })        \n"
   ]
  },
  {
   "cell_type": "code",
   "execution_count": 6,
   "metadata": {},
   "outputs": [],
   "source": [
    "dataSet = pd.DataFrame(list(a), columns=[\"nome\", \"mix\", \"mcu\", \"custo\", \"preco\",\"ano\", \"rateio\", \"pde\", \"receita\"])"
   ]
  },
  {
   "cell_type": "markdown",
   "metadata": {},
   "source": [
    "# Tabelas Ponto de Equilibrio"
   ]
  },
  {
   "cell_type": "markdown",
   "metadata": {},
   "source": [
    "## Opção 1"
   ]
  },
  {
   "cell_type": "code",
   "execution_count": 7,
   "metadata": {},
   "outputs": [
    {
     "data": {
      "text/html": [
       "<div>\n",
       "<style scoped>\n",
       "    .dataframe tbody tr th:only-of-type {\n",
       "        vertical-align: middle;\n",
       "    }\n",
       "\n",
       "    .dataframe tbody tr th {\n",
       "        vertical-align: top;\n",
       "    }\n",
       "\n",
       "    .dataframe thead th {\n",
       "        text-align: right;\n",
       "    }\n",
       "</style>\n",
       "<table border=\"1\" class=\"dataframe\">\n",
       "  <thead>\n",
       "    <tr style=\"text-align: right;\">\n",
       "      <th></th>\n",
       "      <th>nome</th>\n",
       "      <th>mix</th>\n",
       "      <th>mcu</th>\n",
       "      <th>custo</th>\n",
       "      <th>preco</th>\n",
       "      <th>ano</th>\n",
       "      <th>rateio</th>\n",
       "      <th>pde</th>\n",
       "      <th>receita</th>\n",
       "    </tr>\n",
       "  </thead>\n",
       "  <tbody>\n",
       "    <tr>\n",
       "      <th>0</th>\n",
       "      <td>Pastel Grande</td>\n",
       "      <td>0.14</td>\n",
       "      <td>3.64</td>\n",
       "      <td>37800.00</td>\n",
       "      <td>4.90</td>\n",
       "      <td>1</td>\n",
       "      <td>68280.24</td>\n",
       "      <td>18758.307692</td>\n",
       "      <td>147000.00</td>\n",
       "    </tr>\n",
       "    <tr>\n",
       "      <th>1</th>\n",
       "      <td>Pastel Medio</td>\n",
       "      <td>0.14</td>\n",
       "      <td>2.99</td>\n",
       "      <td>30780.00</td>\n",
       "      <td>3.80</td>\n",
       "      <td>1</td>\n",
       "      <td>68280.24</td>\n",
       "      <td>22836.200669</td>\n",
       "      <td>144400.00</td>\n",
       "    </tr>\n",
       "    <tr>\n",
       "      <th>2</th>\n",
       "      <td>Mini Pastel</td>\n",
       "      <td>0.24</td>\n",
       "      <td>1.24</td>\n",
       "      <td>28600.00</td>\n",
       "      <td>1.50</td>\n",
       "      <td>1</td>\n",
       "      <td>117051.84</td>\n",
       "      <td>94396.645161</td>\n",
       "      <td>165000.00</td>\n",
       "    </tr>\n",
       "    <tr>\n",
       "      <th>3</th>\n",
       "      <td>Cheeseburguers</td>\n",
       "      <td>0.14</td>\n",
       "      <td>4.26</td>\n",
       "      <td>33120.00</td>\n",
       "      <td>6.10</td>\n",
       "      <td>1</td>\n",
       "      <td>68280.24</td>\n",
       "      <td>16028.225352</td>\n",
       "      <td>109800.00</td>\n",
       "    </tr>\n",
       "    <tr>\n",
       "      <th>4</th>\n",
       "      <td>Cestaas</td>\n",
       "      <td>0.10</td>\n",
       "      <td>6.70</td>\n",
       "      <td>41951.52</td>\n",
       "      <td>11.38</td>\n",
       "      <td>1</td>\n",
       "      <td>48771.60</td>\n",
       "      <td>7279.343284</td>\n",
       "      <td>102010.32</td>\n",
       "    </tr>\n",
       "    <tr>\n",
       "      <th>5</th>\n",
       "      <td>Minutas</td>\n",
       "      <td>0.10</td>\n",
       "      <td>2.96</td>\n",
       "      <td>89820.00</td>\n",
       "      <td>7.95</td>\n",
       "      <td>1</td>\n",
       "      <td>48771.60</td>\n",
       "      <td>16476.891892</td>\n",
       "      <td>143100.00</td>\n",
       "    </tr>\n",
       "    <tr>\n",
       "      <th>6</th>\n",
       "      <td>Bebidas</td>\n",
       "      <td>0.14</td>\n",
       "      <td>1.00</td>\n",
       "      <td>174200.00</td>\n",
       "      <td>3.60</td>\n",
       "      <td>1</td>\n",
       "      <td>68280.24</td>\n",
       "      <td>68280.240000</td>\n",
       "      <td>241200.00</td>\n",
       "    </tr>\n",
       "  </tbody>\n",
       "</table>\n",
       "</div>"
      ],
      "text/plain": [
       "             nome   mix   mcu      custo  preco  ano     rateio           pde  \\\n",
       "0   Pastel Grande  0.14  3.64   37800.00   4.90    1   68280.24  18758.307692   \n",
       "1    Pastel Medio  0.14  2.99   30780.00   3.80    1   68280.24  22836.200669   \n",
       "2     Mini Pastel  0.24  1.24   28600.00   1.50    1  117051.84  94396.645161   \n",
       "3  Cheeseburguers  0.14  4.26   33120.00   6.10    1   68280.24  16028.225352   \n",
       "4         Cestaas  0.10  6.70   41951.52  11.38    1   48771.60   7279.343284   \n",
       "5         Minutas  0.10  2.96   89820.00   7.95    1   48771.60  16476.891892   \n",
       "6         Bebidas  0.14  1.00  174200.00   3.60    1   68280.24  68280.240000   \n",
       "\n",
       "     receita  \n",
       "0  147000.00  \n",
       "1  144400.00  \n",
       "2  165000.00  \n",
       "3  109800.00  \n",
       "4  102010.32  \n",
       "5  143100.00  \n",
       "6  241200.00  "
      ]
     },
     "execution_count": 7,
     "metadata": {},
     "output_type": "execute_result"
    }
   ],
   "source": [
    "ano = dataSet[dataSet[\"ano\"] == 1]\n",
    "\n",
    "ano"
   ]
  },
  {
   "cell_type": "markdown",
   "metadata": {},
   "source": [
    "## Opção 2"
   ]
  },
  {
   "cell_type": "code",
   "execution_count": 8,
   "metadata": {},
   "outputs": [
    {
     "data": {
      "text/html": [
       "<div>\n",
       "<style scoped>\n",
       "    .dataframe tbody tr th:only-of-type {\n",
       "        vertical-align: middle;\n",
       "    }\n",
       "\n",
       "    .dataframe tbody tr th {\n",
       "        vertical-align: top;\n",
       "    }\n",
       "\n",
       "    .dataframe thead th {\n",
       "        text-align: right;\n",
       "    }\n",
       "</style>\n",
       "<table border=\"1\" class=\"dataframe\">\n",
       "  <thead>\n",
       "    <tr style=\"text-align: right;\">\n",
       "      <th></th>\n",
       "      <th>nome</th>\n",
       "      <th>mix</th>\n",
       "      <th>mcu</th>\n",
       "      <th>custo</th>\n",
       "      <th>preco</th>\n",
       "      <th>ano</th>\n",
       "      <th>rateio</th>\n",
       "      <th>pde</th>\n",
       "      <th>receita</th>\n",
       "    </tr>\n",
       "  </thead>\n",
       "  <tbody>\n",
       "    <tr>\n",
       "      <th>7</th>\n",
       "      <td>Pastel Grande</td>\n",
       "      <td>0.14</td>\n",
       "      <td>3.64</td>\n",
       "      <td>37800.00</td>\n",
       "      <td>4.90</td>\n",
       "      <td>2</td>\n",
       "      <td>76680.24</td>\n",
       "      <td>21066.000000</td>\n",
       "      <td>147000.00</td>\n",
       "    </tr>\n",
       "    <tr>\n",
       "      <th>8</th>\n",
       "      <td>Pastel Medio</td>\n",
       "      <td>0.14</td>\n",
       "      <td>2.99</td>\n",
       "      <td>30780.00</td>\n",
       "      <td>3.80</td>\n",
       "      <td>2</td>\n",
       "      <td>76680.24</td>\n",
       "      <td>25645.565217</td>\n",
       "      <td>144400.00</td>\n",
       "    </tr>\n",
       "    <tr>\n",
       "      <th>9</th>\n",
       "      <td>Mini Pastel</td>\n",
       "      <td>0.24</td>\n",
       "      <td>1.24</td>\n",
       "      <td>28600.00</td>\n",
       "      <td>1.50</td>\n",
       "      <td>2</td>\n",
       "      <td>131451.84</td>\n",
       "      <td>106009.548387</td>\n",
       "      <td>165000.00</td>\n",
       "    </tr>\n",
       "    <tr>\n",
       "      <th>10</th>\n",
       "      <td>Cheeseburguers</td>\n",
       "      <td>0.14</td>\n",
       "      <td>4.26</td>\n",
       "      <td>33120.00</td>\n",
       "      <td>6.10</td>\n",
       "      <td>2</td>\n",
       "      <td>76680.24</td>\n",
       "      <td>18000.056338</td>\n",
       "      <td>109800.00</td>\n",
       "    </tr>\n",
       "    <tr>\n",
       "      <th>11</th>\n",
       "      <td>Cestaas</td>\n",
       "      <td>0.10</td>\n",
       "      <td>6.70</td>\n",
       "      <td>41951.52</td>\n",
       "      <td>11.38</td>\n",
       "      <td>2</td>\n",
       "      <td>54771.60</td>\n",
       "      <td>8174.865672</td>\n",
       "      <td>102010.32</td>\n",
       "    </tr>\n",
       "    <tr>\n",
       "      <th>12</th>\n",
       "      <td>Minutas</td>\n",
       "      <td>0.10</td>\n",
       "      <td>2.96</td>\n",
       "      <td>89820.00</td>\n",
       "      <td>7.95</td>\n",
       "      <td>2</td>\n",
       "      <td>54771.60</td>\n",
       "      <td>18503.918919</td>\n",
       "      <td>143100.00</td>\n",
       "    </tr>\n",
       "    <tr>\n",
       "      <th>13</th>\n",
       "      <td>Bebidas</td>\n",
       "      <td>0.14</td>\n",
       "      <td>1.00</td>\n",
       "      <td>174200.00</td>\n",
       "      <td>3.60</td>\n",
       "      <td>2</td>\n",
       "      <td>76680.24</td>\n",
       "      <td>76680.240000</td>\n",
       "      <td>241200.00</td>\n",
       "    </tr>\n",
       "  </tbody>\n",
       "</table>\n",
       "</div>"
      ],
      "text/plain": [
       "              nome   mix   mcu      custo  preco  ano     rateio  \\\n",
       "7    Pastel Grande  0.14  3.64   37800.00   4.90    2   76680.24   \n",
       "8     Pastel Medio  0.14  2.99   30780.00   3.80    2   76680.24   \n",
       "9      Mini Pastel  0.24  1.24   28600.00   1.50    2  131451.84   \n",
       "10  Cheeseburguers  0.14  4.26   33120.00   6.10    2   76680.24   \n",
       "11         Cestaas  0.10  6.70   41951.52  11.38    2   54771.60   \n",
       "12         Minutas  0.10  2.96   89820.00   7.95    2   54771.60   \n",
       "13         Bebidas  0.14  1.00  174200.00   3.60    2   76680.24   \n",
       "\n",
       "              pde    receita  \n",
       "7    21066.000000  147000.00  \n",
       "8    25645.565217  144400.00  \n",
       "9   106009.548387  165000.00  \n",
       "10   18000.056338  109800.00  \n",
       "11    8174.865672  102010.32  \n",
       "12   18503.918919  143100.00  \n",
       "13   76680.240000  241200.00  "
      ]
     },
     "execution_count": 8,
     "metadata": {},
     "output_type": "execute_result"
    }
   ],
   "source": [
    "ano = dataSet[dataSet[\"ano\"] == 2]\n",
    "\n",
    "ano"
   ]
  },
  {
   "cell_type": "markdown",
   "metadata": {},
   "source": [
    "## Opção 3"
   ]
  },
  {
   "cell_type": "code",
   "execution_count": 9,
   "metadata": {},
   "outputs": [
    {
     "data": {
      "text/html": [
       "<div>\n",
       "<style scoped>\n",
       "    .dataframe tbody tr th:only-of-type {\n",
       "        vertical-align: middle;\n",
       "    }\n",
       "\n",
       "    .dataframe tbody tr th {\n",
       "        vertical-align: top;\n",
       "    }\n",
       "\n",
       "    .dataframe thead th {\n",
       "        text-align: right;\n",
       "    }\n",
       "</style>\n",
       "<table border=\"1\" class=\"dataframe\">\n",
       "  <thead>\n",
       "    <tr style=\"text-align: right;\">\n",
       "      <th></th>\n",
       "      <th>nome</th>\n",
       "      <th>mix</th>\n",
       "      <th>mcu</th>\n",
       "      <th>custo</th>\n",
       "      <th>preco</th>\n",
       "      <th>ano</th>\n",
       "      <th>rateio</th>\n",
       "      <th>pde</th>\n",
       "      <th>receita</th>\n",
       "    </tr>\n",
       "  </thead>\n",
       "  <tbody>\n",
       "    <tr>\n",
       "      <th>14</th>\n",
       "      <td>Pastel Grande</td>\n",
       "      <td>0.14</td>\n",
       "      <td>3.64</td>\n",
       "      <td>37800.00</td>\n",
       "      <td>4.90</td>\n",
       "      <td>3</td>\n",
       "      <td>85080.24</td>\n",
       "      <td>23373.692308</td>\n",
       "      <td>147000.00</td>\n",
       "    </tr>\n",
       "    <tr>\n",
       "      <th>15</th>\n",
       "      <td>Pastel Medio</td>\n",
       "      <td>0.14</td>\n",
       "      <td>2.99</td>\n",
       "      <td>30780.00</td>\n",
       "      <td>3.80</td>\n",
       "      <td>3</td>\n",
       "      <td>85080.24</td>\n",
       "      <td>28454.929766</td>\n",
       "      <td>144400.00</td>\n",
       "    </tr>\n",
       "    <tr>\n",
       "      <th>16</th>\n",
       "      <td>Mini Pastel</td>\n",
       "      <td>0.24</td>\n",
       "      <td>1.24</td>\n",
       "      <td>28600.00</td>\n",
       "      <td>1.50</td>\n",
       "      <td>3</td>\n",
       "      <td>145851.84</td>\n",
       "      <td>117622.451613</td>\n",
       "      <td>165000.00</td>\n",
       "    </tr>\n",
       "    <tr>\n",
       "      <th>17</th>\n",
       "      <td>Cheeseburguers</td>\n",
       "      <td>0.14</td>\n",
       "      <td>4.26</td>\n",
       "      <td>33120.00</td>\n",
       "      <td>6.10</td>\n",
       "      <td>3</td>\n",
       "      <td>85080.24</td>\n",
       "      <td>19971.887324</td>\n",
       "      <td>109800.00</td>\n",
       "    </tr>\n",
       "    <tr>\n",
       "      <th>18</th>\n",
       "      <td>Cestaas</td>\n",
       "      <td>0.10</td>\n",
       "      <td>6.70</td>\n",
       "      <td>41951.52</td>\n",
       "      <td>11.38</td>\n",
       "      <td>3</td>\n",
       "      <td>60771.60</td>\n",
       "      <td>9070.388060</td>\n",
       "      <td>102010.32</td>\n",
       "    </tr>\n",
       "    <tr>\n",
       "      <th>19</th>\n",
       "      <td>Minutas</td>\n",
       "      <td>0.10</td>\n",
       "      <td>2.96</td>\n",
       "      <td>89820.00</td>\n",
       "      <td>7.95</td>\n",
       "      <td>3</td>\n",
       "      <td>60771.60</td>\n",
       "      <td>20530.945946</td>\n",
       "      <td>143100.00</td>\n",
       "    </tr>\n",
       "    <tr>\n",
       "      <th>20</th>\n",
       "      <td>Bebidas</td>\n",
       "      <td>0.14</td>\n",
       "      <td>1.00</td>\n",
       "      <td>174200.00</td>\n",
       "      <td>3.60</td>\n",
       "      <td>3</td>\n",
       "      <td>85080.24</td>\n",
       "      <td>85080.240000</td>\n",
       "      <td>241200.00</td>\n",
       "    </tr>\n",
       "  </tbody>\n",
       "</table>\n",
       "</div>"
      ],
      "text/plain": [
       "              nome   mix   mcu      custo  preco  ano     rateio  \\\n",
       "14   Pastel Grande  0.14  3.64   37800.00   4.90    3   85080.24   \n",
       "15    Pastel Medio  0.14  2.99   30780.00   3.80    3   85080.24   \n",
       "16     Mini Pastel  0.24  1.24   28600.00   1.50    3  145851.84   \n",
       "17  Cheeseburguers  0.14  4.26   33120.00   6.10    3   85080.24   \n",
       "18         Cestaas  0.10  6.70   41951.52  11.38    3   60771.60   \n",
       "19         Minutas  0.10  2.96   89820.00   7.95    3   60771.60   \n",
       "20         Bebidas  0.14  1.00  174200.00   3.60    3   85080.24   \n",
       "\n",
       "              pde    receita  \n",
       "14   23373.692308  147000.00  \n",
       "15   28454.929766  144400.00  \n",
       "16  117622.451613  165000.00  \n",
       "17   19971.887324  109800.00  \n",
       "18    9070.388060  102010.32  \n",
       "19   20530.945946  143100.00  \n",
       "20   85080.240000  241200.00  "
      ]
     },
     "execution_count": 9,
     "metadata": {},
     "output_type": "execute_result"
    }
   ],
   "source": [
    "ano = dataSet[dataSet[\"ano\"] == 3]\n",
    "\n",
    "ano"
   ]
  },
  {
   "cell_type": "markdown",
   "metadata": {},
   "source": [
    "# Receitas e custos"
   ]
  },
  {
   "cell_type": "code",
   "execution_count": 10,
   "metadata": {},
   "outputs": [
    {
     "name": "stdout",
     "output_type": "stream",
     "text": [
      "receita: 1052510.32\n",
      "custo: 436271.52\n"
     ]
    }
   ],
   "source": [
    "\n",
    "receita = ano[\"receita\"].sum()\n",
    "custo = ano[\"custo\"].sum()\n",
    "\n",
    "print 'receita:', receita\n",
    "print 'custo:', custo\n"
   ]
  },
  {
   "cell_type": "markdown",
   "metadata": {},
   "source": [
    "# Calculando Capital"
   ]
  },
  {
   "cell_type": "code",
   "execution_count": 11,
   "metadata": {},
   "outputs": [
    {
     "name": "stdout",
     "output_type": "stream",
     "text": [
      "Capital Proprio  80.0\n",
      "Capital Terceiro  120.0\n"
     ]
    }
   ],
   "source": [
    "custo = 200\n",
    "\n",
    "capitalProprio = 200 * 0.40\n",
    "ks = 0.15\n",
    "\n",
    "capitalTerceiro = 200 * 0.60\n",
    "kd = 0.10\n",
    "\n",
    "print \"Capital Proprio \", capitalProprio\n",
    "\n",
    "print \"Capital Terceiro \", capitalTerceiro"
   ]
  },
  {
   "cell_type": "markdown",
   "metadata": {},
   "source": [
    "# WACC"
   ]
  },
  {
   "cell_type": "code",
   "execution_count": 12,
   "metadata": {},
   "outputs": [
    {
     "name": "stdout",
     "output_type": "stream",
     "text": [
      "CMPC -  13.0 %\n"
     ]
    }
   ],
   "source": [
    "dadosWacc = {\n",
    "    \"capitalTerceiro\": capitalProprio,\n",
    "    \"kd\": kd,\n",
    "    \"capitalProprio\":capitalTerceiro,\n",
    "    \"ks\": ks\n",
    "}\n",
    "\n",
    "WACC = calculaWacc(dadosWacc)\n",
    "\n",
    "print \"CMPC - \",WACC * 100, \"%\""
   ]
  },
  {
   "cell_type": "markdown",
   "metadata": {},
   "source": [
    "# Probabilidade"
   ]
  },
  {
   "cell_type": "code",
   "execution_count": 17,
   "metadata": {},
   "outputs": [
    {
     "data": {
      "text/plain": [
       "0    30000.0\n",
       "1    72000.0\n",
       "2    84000.0\n",
       "dtype: float64"
      ]
     },
     "execution_count": 17,
     "metadata": {},
     "output_type": "execute_result"
    }
   ],
   "source": [
    "# Probabilidade\n",
    "\n",
    "dfAlugueis = pd.DataFrame({\n",
    "    'prob': [25, 40, 35],\n",
    "    'aluguel': [120000, 180000, 240000]\n",
    "});\n",
    "\n",
    "# Custo fixo sem aluguel 30643\n",
    "\n",
    "custoFixoSemAluguel = 0\n",
    "\n",
    "dfAlugueisPonderados = dfAlugueis[\"aluguel\"] * (dfAlugueis[\"prob\"] / 100)\n",
    "\n",
    "dfAlugueisPonderados.head()"
   ]
  },
  {
   "cell_type": "code",
   "execution_count": 18,
   "metadata": {},
   "outputs": [
    {
     "data": {
      "text/plain": [
       "count        3.000000\n",
       "mean     62000.000000\n",
       "std      28354.893758\n",
       "min      30000.000000\n",
       "25%      51000.000000\n",
       "50%      72000.000000\n",
       "75%      78000.000000\n",
       "max      84000.000000\n",
       "dtype: float64"
      ]
     },
     "execution_count": 18,
     "metadata": {},
     "output_type": "execute_result"
    }
   ],
   "source": [
    "dfAlugueisPonderados.describe()"
   ]
  },
  {
   "cell_type": "code",
   "execution_count": 43,
   "metadata": {},
   "outputs": [
    {
     "data": {
      "image/png": "[encoded data removed]",
      "text/plain": [
       "<Figure size 432x288 with 1 Axes>"
      ]
     },
     "metadata": {
      "needs_background": "light"
     },
     "output_type": "display_data"
    }
   ],
   "source": [
    "df1 = pd.DataFrame({\n",
    "    'opcoes': ['Opção 1','Opção 2', 'Opção 3'],\n",
    "    'vpl': [382112.90, 134676.20, -112761.50],\n",
    "    'aluguel': [120000, 180000, 240000],\n",
    "    'prob': [25, 40, 35],\n",
    "    'receita': [1052510.32, 1052510.32, 1052510.32],\n",
    "    'cVariavel': [487716, 547716, 607716],\n",
    "    'cTotal': [923987.52, 983987, 1043987.2],\n",
    "})\n",
    "\n",
    "\n",
    "p = sns.barplot(data = df1, x = 'vpl', y = 'receita')\n",
    "p.set(xlabel = \"Custo Variavel\", ylabel = \"Custo Fixo\")\n",
    "plt.title(\"Custo Total x Custo Variavel\");"
   ]
  }
 ],
 "metadata": {
  "kernelspec": {
   "display_name": "Python 2",
   "language": "python",
   "name": "python2"
  },
  "language_info": {
   "codemirror_mode": {
    "name": "ipython",
    "version": 2
   },
   "file_extension": ".py",
   "mimetype": "text/x-python",
   "name": "python",
   "nbconvert_exporter": "python",
   "pygments_lexer": "ipython2",
   "version": "2.7.16"
  }
 },
 "nbformat": 4,
 "nbformat_minor": 2
}
